{
 "cells": [
  {
   "cell_type": "markdown",
   "metadata": {},
   "source": [
    "# Regular Expressions\n",
    "\n",
    "One of the most helpful tools you will use in working with text data is regular expressions. Regular expressions are basically [pattern matchers](https://en.wikipedia.org/wiki/Regular_expression) that let you search for text within a bigger string. \n",
    "\n",
    "It's just a formal way of saying things like: \n",
    "\n",
    "* Take all these files that are pdfs and put them in that folder\n",
    "* I only want likes that end in a number\n",
    "* Please give me all entries that start with Mr.\n",
    "* Can you delete all files that have a number in the title? \n",
    "* Can you find and replace this thing and put in that thing?\n",
    "\n",
    "\n",
    "This notebook has you try a couple of exercises to get you started on this!\n",
    "\n",
    "If you need help, refer to [this link](https://www.w3schools.com/python/python_regex.asp)"
   ]
  },
  {
   "cell_type": "code",
   "execution_count": 1,
   "metadata": {},
   "outputs": [],
   "source": [
    "# Import re as in r egular e xpressions\n",
    "# This is a built in pacakge in Python!\n",
    "import re"
   ]
  },
  {
   "cell_type": "markdown",
   "metadata": {},
   "source": [
    "For this exercise we are going to use a single string. Eventually we will use these operations on a pandas data frame! (just not today...)"
   ]
  },
  {
   "cell_type": "code",
   "execution_count": 2,
   "metadata": {},
   "outputs": [],
   "source": [
    "all_the_things_you_are = \"\"\"You are the promised kiss of springtime\n",
    "That makes the lonely winter seem long\n",
    "You are the breathless hush of evening\n",
    "That trembles on the brink of a lovely song\n",
    "You are the angel glow that lights a star\n",
    "The dearest things I know are what you are\n",
    "Some day my happy arms will hold you\n",
    "And some day I'll know that moment divine\n",
    "When all the things you are, are mine\n",
    "You are the angel glow that lights a star\n",
    "The dearest things I know are what you are\n",
    "Some day my happy arms will hold you\n",
    "And some day I'll know that moment divine\n",
    "When all the things you are, are mine\"\"\""
   ]
  },
  {
   "cell_type": "code",
   "execution_count": 3,
   "metadata": {},
   "outputs": [
    {
     "data": {
      "text/plain": [
       "\"You are the promised kiss of springtime\\nThat makes the lonely winter seem long\\nYou are the breathless hush of evening\\nThat trembles on the brink of a lovely song\\nYou are the angel glow that lights a star\\nThe dearest things I know are what you are\\nSome day my happy arms will hold you\\nAnd some day I'll know that moment divine\\nWhen all the things you are, are mine\\nYou are the angel glow that lights a star\\nThe dearest things I know are what you are\\nSome day my happy arms will hold you\\nAnd some day I'll know that moment divine\\nWhen all the things you are, are mine\""
      ]
     },
     "execution_count": 3,
     "metadata": {},
     "output_type": "execute_result"
    }
   ],
   "source": [
    "all_the_things_you_are"
   ]
  },
  {
   "cell_type": "markdown",
   "metadata": {},
   "source": [
    "Above are the lyrics to the song [All the Things You Are](https://www.youtube.com/watch?v=OPapxr8GvGA), a classic jazz standard. Let's manipulate some of the text."
   ]
  },
  {
   "cell_type": "code",
   "execution_count": 4,
   "metadata": {},
   "outputs": [],
   "source": [
    "# First use the .findall method to find evey mention of the word you\n",
    "# Consider that you want to find both versions of You and you\n",
    "\n",
    "# re.findall()"
   ]
  },
  {
   "cell_type": "code",
   "execution_count": 5,
   "metadata": {},
   "outputs": [],
   "source": [
    "# Print only the word you from the object above! "
   ]
  },
  {
   "cell_type": "code",
   "execution_count": 6,
   "metadata": {},
   "outputs": [],
   "source": [
    "# Your Code here!! "
   ]
  },
  {
   "cell_type": "code",
   "execution_count": 17,
   "metadata": {},
   "outputs": [],
   "source": [
    "# The following code breaks up the song into each line using the .split() method\n",
    "# Save this to a new object called attya_lines"
   ]
  },
  {
   "cell_type": "code",
   "execution_count": 20,
   "metadata": {},
   "outputs": [
    {
     "data": {
      "text/plain": [
       "['You are the promised kiss of springtime',\n",
       " 'That makes the lonely winter seem long',\n",
       " 'You are the breathless hush of evening',\n",
       " 'That trembles on the brink of a lovely song',\n",
       " 'You are the angel glow that lights a star',\n",
       " 'The dearest things I know are what you are',\n",
       " 'Some day my happy arms will hold you',\n",
       " \"And some day I'll know that moment divine\",\n",
       " 'When all the things you are, are mine',\n",
       " 'You are the angel glow that lights a star',\n",
       " 'The dearest things I know are what you are',\n",
       " 'Some day my happy arms will hold you',\n",
       " \"And some day I'll know that moment divine\",\n",
       " 'When all the things you are, are mine']"
      ]
     },
     "execution_count": 20,
     "metadata": {},
     "output_type": "execute_result"
    }
   ],
   "source": [
    "attya_lines = re.split(\"\\n\", all_the_things_you_are)\n",
    "attya_lines"
   ]
  },
  {
   "cell_type": "code",
   "execution_count": 25,
   "metadata": {},
   "outputs": [
    {
     "name": "stdout",
     "output_type": "stream",
     "text": [
      "['You']\n",
      "[]\n",
      "['You']\n",
      "[]\n",
      "['You']\n",
      "[]\n",
      "[]\n",
      "[]\n",
      "[]\n",
      "['You']\n",
      "[]\n",
      "[]\n",
      "[]\n",
      "[]\n"
     ]
    }
   ],
   "source": [
    "# The following code shows a loop that will print only places where the word You is found. \n",
    "# In the next steps, modify the loop to produce each of the following outputs: \n",
    "for line in attya_lines:\n",
    "    x = re.findall(\"You\", line)\n",
    "    print(x)"
   ]
  },
  {
   "cell_type": "code",
   "execution_count": 28,
   "metadata": {},
   "outputs": [
    {
     "name": "stdout",
     "output_type": "stream",
     "text": [
      "['You']\n",
      "[]\n",
      "['You']\n",
      "[]\n",
      "['You']\n",
      "['you']\n",
      "['you']\n",
      "[]\n",
      "['you']\n",
      "['You']\n",
      "['you']\n",
      "['you']\n",
      "[]\n",
      "['you']\n"
     ]
    }
   ],
   "source": [
    "# Every instance of the word You or you \n"
   ]
  },
  {
   "cell_type": "code",
   "execution_count": 30,
   "metadata": {},
   "outputs": [
    {
     "name": "stdout",
     "output_type": "stream",
     "text": [
      "['You are the promised kiss of springtime']\n",
      "[]\n",
      "['You are the breathless hush of evening']\n",
      "[]\n",
      "['You are the angel glow that lights a star']\n",
      "[]\n",
      "[]\n",
      "[]\n",
      "[]\n",
      "['You are the angel glow that lights a star']\n",
      "[]\n",
      "[]\n",
      "[]\n",
      "[]\n"
     ]
    }
   ],
   "source": [
    "# Print only lines that begin with You\n"
   ]
  },
  {
   "cell_type": "code",
   "execution_count": 34,
   "metadata": {},
   "outputs": [
    {
     "name": "stdout",
     "output_type": "stream",
     "text": [
      "[]\n",
      "['That makes the lonely winter seem long']\n",
      "[]\n",
      "['That trembles on the brink of a lovely song']\n",
      "[]\n",
      "[]\n",
      "[]\n",
      "[]\n",
      "[]\n",
      "[]\n",
      "[]\n",
      "[]\n",
      "[]\n",
      "[]\n"
     ]
    }
   ],
   "source": [
    "# Print only lines that end with \"ong\" \n"
   ]
  },
  {
   "cell_type": "code",
   "execution_count": 35,
   "metadata": {},
   "outputs": [
    {
     "name": "stdout",
     "output_type": "stream",
     "text": [
      "She is the promised kiss of springtime\n",
      "That makes the lonely winter seem long\n",
      "She is the breathless hush of evening\n",
      "That trembles on the brink of a lovely song\n",
      "She is the angel glow that lights a star\n",
      "The dearest things I know are what you are\n",
      "Some day my happy arms will hold you\n",
      "And some day I'll know that moment divine\n",
      "When all the things you are, are mine\n",
      "She is the angel glow that lights a star\n",
      "The dearest things I know are what you are\n",
      "Some day my happy arms will hold you\n",
      "And some day I'll know that moment divine\n",
      "When all the things you are, are mine\n"
     ]
    }
   ],
   "source": [
    "# Imagine you are re-writing the lyrics to be more about unrequited love\n",
    "# Instead of \"You are\", change the lyrics to either \"He is\",\"They are\", or \"She is\"\n"
   ]
  },
  {
   "cell_type": "code",
   "execution_count": 39,
   "metadata": {},
   "outputs": [
    {
     "data": {
      "text/plain": [
       "\"She is the promised kiss of springtime\\nThat makes the lonely winter seem long\\nShe is the breathless hush of evening\\nThat trembles on the brink of a lovely song\\nYou are the angel glow that lights a star\\nThe dearest things I know are what you are\\nSome day my happy arms will hold you\\nAnd some day I'll know that moment divine\\nWhen all the things you are, are mine\\nYou are the angel glow that lights a star\\nThe dearest things I know are what you are\\nSome day my happy arms will hold you\\nAnd some day I'll know that moment divine\\nWhen all the things you are, are mine\""
      ]
     },
     "execution_count": 39,
     "metadata": {},
     "output_type": "execute_result"
    }
   ],
   "source": [
    "# Imagine you are re-writing the lyrics to be more about unrequited love\n",
    "# Repeat the task above, but only change the first two instances of You are  so that the song changes from speaking\n",
    "# in the third person to the first person\n",
    "# Not here you should do this on all_the_things_you_are and not use the loop! \n",
    "\n"
   ]
  },
  {
   "cell_type": "code",
   "execution_count": 40,
   "metadata": {},
   "outputs": [
    {
     "name": "stdout",
     "output_type": "stream",
     "text": [
      "Yaa ara tha pramasad kass af sprangtama\n",
      "That makas tha lanaly wantar saam lang\n",
      "Yaa ara tha braathlass hash af avanang\n",
      "That tramblas an tha brank af a lavaly sang\n",
      "Yaa ara tha angal glaw that laghts a star\n",
      "Tha daarast thangs I knaw ara what yaa ara\n",
      "Sama day my happy arms wall hald yaa\n",
      "And sama day I'll knaw that mamant davana\n",
      "Whan all tha thangs yaa ara, ara mana\n",
      "Yaa ara tha angal glaw that laghts a star\n",
      "Tha daarast thangs I knaw ara what yaa ara\n",
      "Sama day my happy arms wall hald yaa\n",
      "And sama day I'll knaw that mamant davana\n",
      "Whan all tha thangs yaa ara, ara mana\n"
     ]
    }
   ],
   "source": [
    "# Now let's be a bit wacky\n",
    "# Find every vowel (a,e,i,o,u) and replace it with the letter a\n",
    "\n"
   ]
  },
  {
   "cell_type": "code",
   "execution_count": null,
   "metadata": {},
   "outputs": [],
   "source": []
  }
 ],
 "metadata": {
  "kernelspec": {
   "display_name": "Python 3",
   "language": "python",
   "name": "python3"
  },
  "language_info": {
   "codemirror_mode": {
    "name": "ipython",
    "version": 3
   },
   "file_extension": ".py",
   "mimetype": "text/x-python",
   "name": "python",
   "nbconvert_exporter": "python",
   "pygments_lexer": "ipython3",
   "version": "3.6.9"
  }
 },
 "nbformat": 4,
 "nbformat_minor": 2
}
